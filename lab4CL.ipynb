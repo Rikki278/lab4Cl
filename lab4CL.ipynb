{
 "cells": [
  {
   "cell_type": "code",
   "execution_count": 2,
   "id": "6fae4734",
   "metadata": {},
   "outputs": [],
   "source": [
    "import boto3\n",
    "import os"
   ]
  },
  {
   "cell_type": "code",
   "execution_count": 50,
   "id": "18734848",
   "metadata": {},
   "outputs": [],
   "source": [
    "def create_key_pair():\n",
    "    ec2_client = boto3.client(\"ec2\", region_name=\"us-east-1\")\n",
    "    key_pair = ec2_client.create_key_pair(KeyName=\"lab4\")\n",
    "    private_key = key_pair[\"KeyMaterial\"]\n",
    "create_key_pair()"
   ]
  },
  {
   "cell_type": "code",
   "execution_count": 3,
   "id": "62c997f4",
   "metadata": {
    "scrolled": false
   },
   "outputs": [
    {
     "name": "stdout",
     "output_type": "stream",
     "text": [
      "i-0d17caabb03880762\n"
     ]
    }
   ],
   "source": [
    "#create instance\n",
    "def create_instance():\n",
    "    ec2_client = boto3.client(\"ec2\", region_name=\"us-east-1\")\n",
    "    instances = ec2_client.run_instances(\n",
    "        ImageId=\"ami-08c40ec9ead489470\",\n",
    "        MinCount=1,\n",
    "        MaxCount=1,\n",
    "        InstanceType=\"t2.micro\",\n",
    "        KeyName=\"lab4\"\n",
    "    )\n",
    "\n",
    "    print(instances[\"Instances\"][0][\"InstanceId\"])\n",
    "    \n",
    "create_instance()"
   ]
  },
  {
   "cell_type": "code",
   "execution_count": 4,
   "id": "70b3ad24",
   "metadata": {},
   "outputs": [],
   "source": [
    "def get_public_ip(instance_id):\n",
    "     ec2_client = boto3.client(\"ec2\", region_name=\"us-east-1\")\n",
    "     reservations = ec2_client.describe_instances(InstanceIds=[instance_id]).get(\"Reservations\")\n",
    "     for reservation in reservations:\n",
    "         for instance in reservation['Instances']:\n",
    "             print(instance.get(\"PublicIpAddress\"))\n"
   ]
  },
  {
   "cell_type": "code",
   "execution_count": 6,
   "id": "5e743aa6",
   "metadata": {},
   "outputs": [
    {
     "name": "stdout",
     "output_type": "stream",
     "text": [
      "34.224.25.155\n"
     ]
    }
   ],
   "source": [
    "get_public_ip('i-0d17caabb03880762')"
   ]
  },
  {
   "cell_type": "code",
   "execution_count": 7,
   "id": "28a0c57c",
   "metadata": {},
   "outputs": [
    {
     "name": "stdout",
     "output_type": "stream",
     "text": [
      "i-0d17caabb03880762, t2.micro, 34.224.25.155, 172.31.25.190\n",
      "i-0ee5f6c714678d631, t2.micro, 3.80.156.175, 172.31.95.24\n"
     ]
    }
   ],
   "source": [
    "def get_running_instances():\n",
    "     ec2_client = boto3.client(\"ec2\", region_name=\"us-east-1\")\n",
    "     reservations = ec2_client.describe_instances(Filters=[\n",
    "     {\n",
    "     \"Name\": \"instance-state-name\",\n",
    "     \"Values\": [\"running\"],\n",
    "     },\n",
    "     {\n",
    "     \"Name\": \"instance-type\",\n",
    "     \"Values\": [\"t2.micro\"]\n",
    "     }\n",
    "     ]).get(\"Reservations\")\n",
    "    \n",
    "     for reservation in reservations:\n",
    "         for instance in reservation[\"Instances\"]:\n",
    "             instance_id = instance[\"InstanceId\"]\n",
    "             instance_type = instance[\"InstanceType\"]\n",
    "             public_ip = instance[\"PublicIpAddress\"]\n",
    "             private_ip = instance[\"PrivateIpAddress\"]\n",
    "             print(f\"{instance_id}, {instance_type}, {public_ip}, {private_ip}\")\n",
    "\n",
    "get_running_instances()"
   ]
  },
  {
   "cell_type": "code",
   "execution_count": 9,
   "id": "cc7fd620",
   "metadata": {},
   "outputs": [
    {
     "name": "stdout",
     "output_type": "stream",
     "text": [
      "{'StoppingInstances': [{'CurrentState': {'Code': 64, 'Name': 'stopping'}, 'InstanceId': 'i-0d17caabb03880762', 'PreviousState': {'Code': 16, 'Name': 'running'}}], 'ResponseMetadata': {'RequestId': '066ed728-744c-4154-9b94-49b59e55e1a7', 'HTTPStatusCode': 200, 'HTTPHeaders': {'x-amzn-requestid': '066ed728-744c-4154-9b94-49b59e55e1a7', 'cache-control': 'no-cache, no-store', 'strict-transport-security': 'max-age=31536000; includeSubDomains', 'content-type': 'text/xml;charset=UTF-8', 'content-length': '579', 'date': 'Fri, 02 Dec 2022 17:39:37 GMT', 'server': 'AmazonEC2'}, 'RetryAttempts': 0}}\n"
     ]
    }
   ],
   "source": [
    "def stop_instance(instance_id):\n",
    "     ec2_client = boto3.client(\"ec2\", region_name=\"us-east-1\")\n",
    "     response = ec2_client.stop_instances(InstanceIds=[instance_id])\n",
    "     print(response)\n",
    "stop_instance('i-0d17caabb03880762')"
   ]
  },
  {
   "cell_type": "code",
   "execution_count": 12,
   "id": "61324451",
   "metadata": {},
   "outputs": [
    {
     "name": "stdout",
     "output_type": "stream",
     "text": [
      "{'TerminatingInstances': [{'CurrentState': {'Code': 48, 'Name': 'terminated'}, 'InstanceId': 'i-09750ee4baa39fa2b', 'PreviousState': {'Code': 80, 'Name': 'stopped'}}], 'ResponseMetadata': {'RequestId': 'f6318cd0-bc5a-4088-918e-49b3e37e3b01', 'HTTPStatusCode': 200, 'HTTPHeaders': {'x-amzn-requestid': 'f6318cd0-bc5a-4088-918e-49b3e37e3b01', 'cache-control': 'no-cache, no-store', 'strict-transport-security': 'max-age=31536000; includeSubDomains', 'vary': 'accept-encoding', 'content-type': 'text/xml;charset=UTF-8', 'transfer-encoding': 'chunked', 'date': 'Mon, 28 Nov 2022 12:13:31 GMT', 'server': 'AmazonEC2'}, 'RetryAttempts': 0}}\n"
     ]
    }
   ],
   "source": [
    "def terminate_instance(instance_id):\n",
    "     ec2_client = boto3.client(\"ec2\", region_name=\"us-east-1\")\n",
    "     response = ec2_client.terminate_instances(InstanceIds=[instance_id])\n",
    "     print(response)\n",
    "terminate_instance('i-09750ee4baa39fa2b')\n"
   ]
  },
  {
   "cell_type": "code",
   "execution_count": 27,
   "id": "c0b5a48b",
   "metadata": {},
   "outputs": [],
   "source": [
    "from boto.s3.connection import S3Connection"
   ]
  },
  {
   "cell_type": "code",
   "execution_count": 57,
   "id": "c68e82b7",
   "metadata": {},
   "outputs": [],
   "source": [
    "#S3\n",
    "s3 = boto3.client('s3')\n",
    "conn = S3Connection()\n",
    "Bucket='lab4test'\n",
    "if conn.lookup(Bucket) is not None:\n",
    "     print('Something went wrong')\n",
    "else:\n",
    "    s3.create_bucket(Bucket='lab4test')"
   ]
  },
  {
   "cell_type": "code",
   "execution_count": 56,
   "id": "e4eeffaa",
   "metadata": {},
   "outputs": [
    {
     "name": "stdout",
     "output_type": "stream",
     "text": [
      "Existing buckets:\n",
      " bucket-lab-2\n"
     ]
    }
   ],
   "source": [
    "#bucket list\n",
    "s3 = boto3.client('s3')\n",
    "response = s3.list_buckets()\n",
    "print('Existing buckets:')\n",
    "for bucket in response['Buckets']:\n",
    "    print(f' {bucket[\"Name\"]}')"
   ]
  },
  {
   "cell_type": "code",
   "execution_count": 42,
   "id": "6a6893c5",
   "metadata": {},
   "outputs": [],
   "source": [
    "# upload file\n",
    "\n",
    "s3 = boto3.client('s3')\n",
    "\n",
    "filename = 'test.txt'\n",
    "bucket_name = 'lab4test'\n",
    "s3.upload_file(filename, bucket_name, filename)"
   ]
  },
  {
   "cell_type": "code",
   "execution_count": 48,
   "id": "0513e764",
   "metadata": {},
   "outputs": [],
   "source": [
    "#read\n",
    "import pandas as pd"
   ]
  },
  {
   "cell_type": "code",
   "execution_count": 54,
   "id": "65ffe646",
   "metadata": {},
   "outputs": [
    {
     "name": "stdout",
     "output_type": "stream",
     "text": [
      "Something went wrong\n"
     ]
    }
   ],
   "source": [
    "s3 = boto3.resource('s3')\n",
    "bucket = s3.Bucket('lab4test') \n",
    "key = 'error.csv'      \n",
    "obj = list(bucket.objects.filter(Prefix=key))\n",
    "if len(obj) > 0:\n",
    "    df = pd.read_csv(key)\n",
    "    print(df.head())\n",
    "else:\n",
    "    print('Something went wrong')"
   ]
  },
  {
   "cell_type": "code",
   "execution_count": 58,
   "id": "ac3dd5e2",
   "metadata": {},
   "outputs": [
    {
     "data": {
      "text/plain": [
       "{'ResponseMetadata': {'RequestId': '8W06TFT5RQP0KR5K',\n",
       "  'HostId': 'k9Wrd00hA/j5gmrpuqa+KKlbf9EVR46dx+ELjzbiih0kQqf39INeJmvVLSO8vOP/qn6eo7PljoQ=',\n",
       "  'HTTPStatusCode': 204,\n",
       "  'HTTPHeaders': {'x-amz-id-2': 'k9Wrd00hA/j5gmrpuqa+KKlbf9EVR46dx+ELjzbiih0kQqf39INeJmvVLSO8vOP/qn6eo7PljoQ=',\n",
       "   'x-amz-request-id': '8W06TFT5RQP0KR5K',\n",
       "   'date': 'Mon, 28 Nov 2022 13:43:16 GMT',\n",
       "   'server': 'AmazonS3'},\n",
       "  'RetryAttempts': 0}}"
      ]
     },
     "execution_count": 58,
     "metadata": {},
     "output_type": "execute_result"
    }
   ],
   "source": [
    "# delete non-empty bucket\n",
    "bucket = boto3.resource('s3').Bucket('lab4test')\n",
    "bucket.objects.all().delete()\n",
    "bucket.delete()"
   ]
  },
  {
   "cell_type": "code",
   "execution_count": null,
   "id": "8e118587",
   "metadata": {},
   "outputs": [],
   "source": []
  }
 ],
 "metadata": {
  "kernelspec": {
   "display_name": "Python 3 (ipykernel)",
   "language": "python",
   "name": "python3"
  },
  "language_info": {
   "codemirror_mode": {
    "name": "ipython",
    "version": 3
   },
   "file_extension": ".py",
   "mimetype": "text/x-python",
   "name": "python",
   "nbconvert_exporter": "python",
   "pygments_lexer": "ipython3",
   "version": "3.10.6"
  }
 },
 "nbformat": 4,
 "nbformat_minor": 5
}
