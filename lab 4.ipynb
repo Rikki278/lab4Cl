{
 "cells": [
  {
   "cell_type": "code",
   "execution_count": 1,
   "id": "8ac11ae6",
   "metadata": {},
   "outputs": [],
   "source": [
    "import boto3\n",
    "import os"
   ]
  },
  {
   "cell_type": "code",
   "execution_count": 2,
   "id": "e78fe155",
   "metadata": {},
   "outputs": [],
   "source": [
    "def create_key_pair():\n",
    "    ec2_client = boto3.client(\"ec2\", region_name=\"us-east-1\")\n",
    "    key_pair = ec2_client.create_key_pair(KeyName=\"lab_4\")\n",
    "    private_key = key_pair[\"KeyMaterial\"]\n",
    "create_key_pair()"
   ]
  },
  {
   "cell_type": "code",
   "execution_count": 3,
   "id": "5889afec",
   "metadata": {},
   "outputs": [
    {
     "name": "stdout",
     "output_type": "stream",
     "text": [
      "i-0e327dbb08fa4d2e4\n"
     ]
    }
   ],
   "source": [
    "def create_instance():\n",
    "    ec2_client = boto3.client(\"ec2\", region_name=\"us-east-1\")\n",
    "    instances = ec2_client.run_instances(\n",
    "        ImageId=\"ami-08c40ec9ead489470\",\n",
    "        MinCount=1,\n",
    "        MaxCount=1,\n",
    "        InstanceType=\"t2.micro\",\n",
    "        KeyName=\"lab4\"\n",
    "    )\n",
    "\n",
    "    print(instances[\"Instances\"][0][\"InstanceId\"])\n",
    "    \n",
    "create_instance()"
   ]
  },
  {
   "cell_type": "code",
   "execution_count": 4,
   "id": "c38e8622",
   "metadata": {},
   "outputs": [],
   "source": [
    "def get_public_ip(instance_id):\n",
    "     ec2_client = boto3.client(\"ec2\", region_name=\"us-east-1\")\n",
    "     reservations = ec2_client.describe_instances(InstanceIds=[instance_id]).get(\"Reservations\")\n",
    "     for reservation in reservations:\n",
    "         for instance in reservation['Instances']:\n",
    "             print(instance.get(\"PublicIpAddress\"))"
   ]
  },
  {
   "cell_type": "code",
   "execution_count": 5,
   "id": "5982922b",
   "metadata": {},
   "outputs": [
    {
     "name": "stdout",
     "output_type": "stream",
     "text": [
      "52.201.233.116\n"
     ]
    }
   ],
   "source": [
    "get_public_ip('i-0e327dbb08fa4d2e4')"
   ]
  },
  {
   "cell_type": "code",
   "execution_count": 6,
   "id": "c1855efb",
   "metadata": {},
   "outputs": [
    {
     "name": "stdout",
     "output_type": "stream",
     "text": [
      "i-0e3b1020bc0672054, t2.micro, 52.70.22.151, 172.31.91.153\n",
      "i-0e327dbb08fa4d2e4, t2.micro, 52.201.233.116, 172.31.94.150\n"
     ]
    }
   ],
   "source": [
    "def get_running_instances():\n",
    "     ec2_client = boto3.client(\"ec2\", region_name=\"us-east-1\")\n",
    "     reservations = ec2_client.describe_instances(Filters=[\n",
    "     {\n",
    "     \"Name\": \"instance-state-name\",\n",
    "     \"Values\": [\"running\"],\n",
    "     },\n",
    "     {\n",
    "     \"Name\": \"instance-type\",\n",
    "     \"Values\": [\"t2.micro\"]\n",
    "     }\n",
    "     ]).get(\"Reservations\")\n",
    "    \n",
    "     for reservation in reservations:\n",
    "         for instance in reservation[\"Instances\"]:\n",
    "             instance_id = instance[\"InstanceId\"]\n",
    "             instance_type = instance[\"InstanceType\"]\n",
    "             public_ip = instance[\"PublicIpAddress\"]\n",
    "             private_ip = instance[\"PrivateIpAddress\"]\n",
    "             print(f\"{instance_id}, {instance_type}, {public_ip}, {private_ip}\")\n",
    "\n",
    "get_running_instances()"
   ]
  },
  {
   "cell_type": "code",
   "execution_count": 7,
   "id": "2940698a",
   "metadata": {},
   "outputs": [
    {
     "name": "stdout",
     "output_type": "stream",
     "text": [
      "{'StoppingInstances': [{'CurrentState': {'Code': 64, 'Name': 'stopping'}, 'InstanceId': 'i-0e327dbb08fa4d2e4', 'PreviousState': {'Code': 16, 'Name': 'running'}}], 'ResponseMetadata': {'RequestId': 'a003bdeb-355c-4bf5-81b0-d39f306065dc', 'HTTPStatusCode': 200, 'HTTPHeaders': {'x-amzn-requestid': 'a003bdeb-355c-4bf5-81b0-d39f306065dc', 'cache-control': 'no-cache, no-store', 'strict-transport-security': 'max-age=31536000; includeSubDomains', 'content-type': 'text/xml;charset=UTF-8', 'content-length': '579', 'date': 'Tue, 13 Dec 2022 13:36:48 GMT', 'server': 'AmazonEC2'}, 'RetryAttempts': 0}}\n"
     ]
    }
   ],
   "source": [
    "def stop_instance(instance_id):\n",
    "     ec2_client = boto3.client(\"ec2\", region_name=\"us-east-1\")\n",
    "     response = ec2_client.stop_instances(InstanceIds=[instance_id])\n",
    "     print(response)\n",
    "stop_instance('i-0e327dbb08fa4d2e4')"
   ]
  },
  {
   "cell_type": "code",
   "execution_count": 8,
   "id": "da61ee85",
   "metadata": {},
   "outputs": [
    {
     "name": "stdout",
     "output_type": "stream",
     "text": [
      "{'TerminatingInstances': [{'CurrentState': {'Code': 48, 'Name': 'terminated'}, 'InstanceId': 'i-0e327dbb08fa4d2e4', 'PreviousState': {'Code': 80, 'Name': 'stopped'}}], 'ResponseMetadata': {'RequestId': '68efbd88-ab82-491e-b51b-f13ff15b87a4', 'HTTPStatusCode': 200, 'HTTPHeaders': {'x-amzn-requestid': '68efbd88-ab82-491e-b51b-f13ff15b87a4', 'cache-control': 'no-cache, no-store', 'strict-transport-security': 'max-age=31536000; includeSubDomains', 'vary': 'accept-encoding', 'content-type': 'text/xml;charset=UTF-8', 'transfer-encoding': 'chunked', 'date': 'Tue, 13 Dec 2022 13:37:17 GMT', 'server': 'AmazonEC2'}, 'RetryAttempts': 0}}\n"
     ]
    }
   ],
   "source": [
    "def terminate_instance(instance_id):\n",
    "     ec2_client = boto3.client(\"ec2\", region_name=\"us-east-1\")\n",
    "     response = ec2_client.terminate_instances(InstanceIds=[instance_id])\n",
    "     print(response)\n",
    "terminate_instance('i-0e327dbb08fa4d2e4')"
   ]
  },
  {
   "cell_type": "code",
   "execution_count": 9,
   "id": "0789bdd2",
   "metadata": {},
   "outputs": [],
   "source": [
    "from boto.s3.connection import S3Connection"
   ]
  },
  {
   "cell_type": "code",
   "execution_count": null,
   "id": "6e8fca74",
   "metadata": {},
   "outputs": [],
   "source": [
    "\n",
    "s3 = boto3.client('s3')\n",
    "conn = S3Connection()\n",
    "Bucket='lab_4test'\n",
    "if conn.lookup(Bucket) is not None:\n",
    "     print('Something went wrong')\n",
    "else:\n",
    "    s3.create_bucket(Bucket='lab_4test')"
   ]
  },
  {
   "cell_type": "code",
   "execution_count": null,
   "id": "c20e4ccc",
   "metadata": {},
   "outputs": [],
   "source": []
  },
  {
   "cell_type": "code",
   "execution_count": 12,
   "id": "96715f12",
   "metadata": {},
   "outputs": [],
   "source": [
    "\n",
    "s3 = boto3.client('s3')\n",
    "conn = S3Connection()\n",
    "Bucket='lab4testbucket'\n",
    "if conn.lookup(Bucket) is not None:\n",
    "     print('Something went wrong')\n",
    "else:\n",
    "    s3.create_bucket(Bucket='lab4testbucket')"
   ]
  },
  {
   "cell_type": "code",
   "execution_count": 13,
   "id": "a7056e55",
   "metadata": {},
   "outputs": [
    {
     "name": "stdout",
     "output_type": "stream",
     "text": [
      "Something went wrong\n"
     ]
    }
   ],
   "source": [
    "s3 = boto3.client('s3')\n",
    "conn = S3Connection()\n",
    "Bucket='lab4testbucket'\n",
    "if conn.lookup(Bucket) is not None:\n",
    "     print('Something went wrong')\n",
    "else:\n",
    "    s3.create_bucket(Bucket='lab4testbucket')"
   ]
  },
  {
   "cell_type": "code",
   "execution_count": 14,
   "id": "f47f69b7",
   "metadata": {},
   "outputs": [
    {
     "name": "stdout",
     "output_type": "stream",
     "text": [
      "Existing buckets:\n",
      " lab2bucketaws\n",
      " lab4testbucket\n"
     ]
    }
   ],
   "source": [
    "#bucket list\n",
    "s3 = boto3.client('s3')\n",
    "response = s3.list_buckets()\n",
    "print('Existing buckets:')\n",
    "for bucket in response['Buckets']:\n",
    "    print(f' {bucket[\"Name\"]}')"
   ]
  },
  {
   "cell_type": "code",
   "execution_count": 15,
   "id": "557f7670",
   "metadata": {},
   "outputs": [],
   "source": [
    "# upload file\n",
    "\n",
    "s3 = boto3.client('s3')\n",
    "\n",
    "filename = 'exchange.cvs'\n",
    "bucket_name = 'lab4testbucket'\n",
    "s3.upload_file(filename, bucket_name, filename)"
   ]
  },
  {
   "cell_type": "code",
   "execution_count": 16,
   "id": "c6f37c71",
   "metadata": {},
   "outputs": [],
   "source": [
    "import pandas as pd"
   ]
  },
  {
   "cell_type": "code",
   "execution_count": null,
   "id": "3b45355a",
   "metadata": {},
   "outputs": [],
   "source": [
    "s3 = boto3.resource('s3')\n",
    "bucket = s3.Bucket('lab4testbucket') \n",
    "key = 'exchange.cvs'      \n",
    "obj = list(bucket.objects.filter(Prefix=key))\n",
    "if len(obj) > 0:\n",
    "    df = pd.read_csv(key)\n",
    "    print(df.head())\n",
    "else:\n",
    "    print('Something went wrong')"
   ]
  },
  {
   "cell_type": "code",
   "execution_count": 18,
   "id": "9eaaa7ef",
   "metadata": {},
   "outputs": [
    {
     "name": "stdout",
     "output_type": "stream",
     "text": [
      "     a                     b        c           d\n",
      "0   36  Австралійський долар  23.1168  26.10.2022\n",
      "1  124      Канадський долар  26.6331  26.10.2022\n",
      "2  156       Юань Женьміньбі   5.0034  26.10.2022\n",
      "3  191                  Куна   4.7902  26.10.2022\n",
      "4  203          Чеська крона   1.4737  26.10.2022\n"
     ]
    }
   ],
   "source": [
    "s3 = boto3.resource('s3')\n",
    "bucket = s3.Bucket('lab4testbucket') \n",
    "key = 'exchange.cvs'      \n",
    "obj = list(bucket.objects.filter(Prefix=key))\n",
    "if len(obj) > 0:\n",
    "    df = pd.read_csv(key)\n",
    "    print(df.head())\n",
    "else:\n",
    "    print('Something went wrong')"
   ]
  },
  {
   "cell_type": "code",
   "execution_count": 19,
   "id": "adb14d3b",
   "metadata": {},
   "outputs": [
    {
     "name": "stdout",
     "output_type": "stream",
     "text": [
      "Something went wrong\n"
     ]
    }
   ],
   "source": [
    "s3 = boto3.resource('s3')\n",
    "bucket = s3.Bucket('lab4testbucket') \n",
    "key = 'wrong.cvs'      \n",
    "obj = list(bucket.objects.filter(Prefix=key))\n",
    "if len(obj) > 0:\n",
    "    df = pd.read_csv(key)\n",
    "    print(df.head())\n",
    "else:\n",
    "    print('Something went wrong')"
   ]
  },
  {
   "cell_type": "code",
   "execution_count": 20,
   "id": "0e72e297",
   "metadata": {},
   "outputs": [
    {
     "data": {
      "text/plain": [
       "{'ResponseMetadata': {'RequestId': 'BHMV4HP32BTJRDBA',\n",
       "  'HostId': '046h/7ljw1q5dUvM6Jp6i+z7V7htjBZfvC1xkxVJJEIGl45R24Zc0xW//TE2iIR3OcdoZYDaOpNbtIS7N0MJVg==',\n",
       "  'HTTPStatusCode': 204,\n",
       "  'HTTPHeaders': {'x-amz-id-2': '046h/7ljw1q5dUvM6Jp6i+z7V7htjBZfvC1xkxVJJEIGl45R24Zc0xW//TE2iIR3OcdoZYDaOpNbtIS7N0MJVg==',\n",
       "   'x-amz-request-id': 'BHMV4HP32BTJRDBA',\n",
       "   'date': 'Tue, 13 Dec 2022 13:45:02 GMT',\n",
       "   'server': 'AmazonS3'},\n",
       "  'RetryAttempts': 0}}"
      ]
     },
     "execution_count": 20,
     "metadata": {},
     "output_type": "execute_result"
    }
   ],
   "source": [
    "# delete non-empty bucket\n",
    "bucket = boto3.resource('s3').Bucket('lab4testbucket')\n",
    "bucket.objects.all().delete()\n",
    "bucket.delete()"
   ]
  },
  {
   "cell_type": "code",
   "execution_count": null,
   "id": "747f8634",
   "metadata": {},
   "outputs": [],
   "source": []
  }
 ],
 "metadata": {
  "kernelspec": {
   "display_name": "Python 3 (ipykernel)",
   "language": "python",
   "name": "python3"
  },
  "language_info": {
   "codemirror_mode": {
    "name": "ipython",
    "version": 3
   },
   "file_extension": ".py",
   "mimetype": "text/x-python",
   "name": "python",
   "nbconvert_exporter": "python",
   "pygments_lexer": "ipython3",
   "version": "3.10.6"
  }
 },
 "nbformat": 4,
 "nbformat_minor": 5
}
